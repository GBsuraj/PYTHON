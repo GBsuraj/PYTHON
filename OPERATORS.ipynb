{
  "nbformat": 4,
  "nbformat_minor": 0,
  "metadata": {
    "colab": {
      "name": "Untitled4.ipynb",
      "provenance": []
    },
    "kernelspec": {
      "name": "python3",
      "display_name": "Python 3"
    },
    "language_info": {
      "name": "python"
    }
  },
  "cells": [
    {
      "cell_type": "code",
      "execution_count": null,
      "metadata": {
        "colab": {
          "base_uri": "https://localhost:8080/"
        },
        "id": "16EIj6eqrCD9",
        "outputId": "e226b01f-cee8-4fa8-e1d8-373bc8a5adef"
      },
      "outputs": [
        {
          "output_type": "stream",
          "name": "stdout",
          "text": [
            "35\n"
          ]
        }
      ],
      "source": [
        "#operators\n",
        "#arithmatic\n",
        "#addition\n",
        "a=17\n",
        "b=18\n",
        "print(a+b)"
      ]
    },
    {
      "cell_type": "code",
      "source": [
        "#substraction\n",
        "a=18\n",
        "b=17\n",
        "print(a-b)"
      ],
      "metadata": {
        "colab": {
          "base_uri": "https://localhost:8080/"
        },
        "id": "_JR4tW0Ex51U",
        "outputId": "dfd80884-3dd1-4814-f328-e3bbb4c41387"
      },
      "execution_count": null,
      "outputs": [
        {
          "output_type": "stream",
          "name": "stdout",
          "text": [
            "1\n"
          ]
        }
      ]
    },
    {
      "cell_type": "code",
      "source": [
        "#multiplication\n",
        "a=17\n",
        "b=18\n",
        "print(a*b)\n"
      ],
      "metadata": {
        "colab": {
          "base_uri": "https://localhost:8080/"
        },
        "id": "itFf-dT7ytC4",
        "outputId": "0b880cce-766e-4a69-92a6-8d1e7c79b7eb"
      },
      "execution_count": null,
      "outputs": [
        {
          "output_type": "stream",
          "name": "stdout",
          "text": [
            "306\n"
          ]
        }
      ]
    },
    {
      "cell_type": "code",
      "source": [
        "#division\n",
        "a=18\n",
        "b=6\n",
        "print(a/b)"
      ],
      "metadata": {
        "colab": {
          "base_uri": "https://localhost:8080/"
        },
        "id": "Xoq489t7y9CN",
        "outputId": "b8d43961-5acd-472c-f132-f55e20e610b8"
      },
      "execution_count": null,
      "outputs": [
        {
          "output_type": "stream",
          "name": "stdout",
          "text": [
            "3.0\n"
          ]
        }
      ]
    },
    {
      "cell_type": "code",
      "source": [
        "#floor division\n",
        "a=4.8\n",
        "b=9\n",
        "print(b//a)"
      ],
      "metadata": {
        "colab": {
          "base_uri": "https://localhost:8080/"
        },
        "id": "pPKAYAiszYVR",
        "outputId": "510537f0-eca3-4ebf-94a4-0dd306e483b0"
      },
      "execution_count": null,
      "outputs": [
        {
          "output_type": "stream",
          "name": "stdout",
          "text": [
            "1.0\n"
          ]
        }
      ]
    },
    {
      "cell_type": "code",
      "source": [
        "#modulus\n",
        "a=30\n",
        "b=7\n",
        "print(a%b)"
      ],
      "metadata": {
        "colab": {
          "base_uri": "https://localhost:8080/"
        },
        "id": "pRDuwl_Lz7SW",
        "outputId": "f60d5575-ff18-460a-b39e-62bea4f51880"
      },
      "execution_count": null,
      "outputs": [
        {
          "output_type": "stream",
          "name": "stdout",
          "text": [
            "2\n"
          ]
        }
      ]
    },
    {
      "cell_type": "code",
      "source": [
        "#exponent\n",
        "a=4\n",
        "print(a**2)"
      ],
      "metadata": {
        "colab": {
          "base_uri": "https://localhost:8080/"
        },
        "id": "U4nuDKRD0jJw",
        "outputId": "4e0f1c3c-1485-4886-f317-7a5b8bb02a12"
      },
      "execution_count": null,
      "outputs": [
        {
          "output_type": "stream",
          "name": "stdout",
          "text": [
            "16\n"
          ]
        }
      ]
    },
    {
      "cell_type": "code",
      "source": [
        "#relational\n",
        "#(>),(<),(==),(!=),(>=),(<=)\n",
        "a=18\n",
        "b=17\n",
        "print(a>b)\n",
        "print(a<b)\n",
        "print(a>17)\n",
        "print(b>18)\n",
        "print(a==b)\n",
        "print(a==18)\n",
        "print(b==17)\n",
        "print(a!=b)\n",
        "print(a!=18)\n",
        "print(b!=17)\n",
        "print(a>=b)\n",
        "print(a>=18)\n",
        "print(a<=b)\n",
        "print(b<=17)\n"
      ],
      "metadata": {
        "colab": {
          "base_uri": "https://localhost:8080/"
        },
        "id": "AHsXUmkf08h8",
        "outputId": "ef0e8936-f918-4bc7-a39f-5bd99296c0ec"
      },
      "execution_count": null,
      "outputs": [
        {
          "output_type": "stream",
          "name": "stdout",
          "text": [
            "True\n",
            "False\n",
            "True\n",
            "False\n",
            "False\n",
            "True\n",
            "True\n",
            "True\n",
            "False\n",
            "False\n",
            "True\n",
            "True\n",
            "False\n",
            "True\n"
          ]
        }
      ]
    },
    {
      "cell_type": "code",
      "source": [
        "#assignment\n",
        "#(=),(+=),(-=),(*=),(/=),(//=),(%=),(**=)\n",
        "a=5\n",
        "b=3\n",
        "a+=b\n",
        "print(a)\n",
        "a-=b\n",
        "print(a)\n",
        "a*=b\n",
        "print(a)\n",
        "a/=b\n",
        "print(a)\n",
        "a//=b\n",
        "print(a)\n",
        "a%=b\n",
        "print(a)\n",
        "a**=b\n",
        "print(a)\n"
      ],
      "metadata": {
        "id": "hfgmrT_c3_1G",
        "colab": {
          "base_uri": "https://localhost:8080/"
        },
        "outputId": "3fd0002f-fbcc-4790-ffa2-e6f57cba7e2f"
      },
      "execution_count": 4,
      "outputs": [
        {
          "output_type": "stream",
          "name": "stdout",
          "text": [
            "8\n",
            "5\n",
            "15\n",
            "5.0\n",
            "1.0\n",
            "1.0\n",
            "1.0\n"
          ]
        }
      ]
    },
    {
      "cell_type": "code",
      "source": [
        "#logical\n",
        "#and,or,not\n",
        "sbg=17\n",
        "print(sbg>20 and sbg<20)\n",
        "print(sbg<18 or sbg>18)\n",
        "print(not(sbg>22))"
      ],
      "metadata": {
        "colab": {
          "base_uri": "https://localhost:8080/"
        },
        "id": "UgjYTmrBBapG",
        "outputId": "be945cd6-ed49-4dd9-8237-2489a3daeba2"
      },
      "execution_count": 5,
      "outputs": [
        {
          "output_type": "stream",
          "name": "stdout",
          "text": [
            "False\n",
            "True\n",
            "True\n"
          ]
        }
      ]
    },
    {
      "cell_type": "code",
      "source": [
        "#membership\n",
        "#in,not in\n",
        "sbg=(17,18,19)\n",
        "print(18 in sbg)\n",
        "print(18 not in sbg)"
      ],
      "metadata": {
        "colab": {
          "base_uri": "https://localhost:8080/"
        },
        "id": "QjBFRo7sE_tG",
        "outputId": "e8fc4cba-7999-4aaf-b1ca-b23c226310c3"
      },
      "execution_count": 8,
      "outputs": [
        {
          "output_type": "stream",
          "name": "stdout",
          "text": [
            "True\n",
            "False\n"
          ]
        }
      ]
    },
    {
      "cell_type": "code",
      "source": [
        "#identity\n",
        "#is,is not\n",
        "s=17\n",
        "b=18\n",
        "g=17\n",
        "print(s is b)\n",
        "print(b is g)\n",
        "print(s is g)\n",
        "print(s is not b)\n",
        "print(b is not g)\n",
        "print(s is not g)"
      ],
      "metadata": {
        "colab": {
          "base_uri": "https://localhost:8080/"
        },
        "id": "AGsy8YD1F1v9",
        "outputId": "a820af42-6fd3-43a9-9bb8-091911fbcad4"
      },
      "execution_count": 9,
      "outputs": [
        {
          "output_type": "stream",
          "name": "stdout",
          "text": [
            "False\n",
            "False\n",
            "True\n",
            "True\n",
            "True\n",
            "False\n"
          ]
        }
      ]
    },
    {
      "cell_type": "code",
      "source": [
        "#bitwise\n",
        "#&,|,^\n",
        "s=17\n",
        "b=18\n",
        "g=19\n",
        "print(s & b)\n",
        "print(b & g)\n",
        "print(s & g)\n",
        "print(s | b)\n",
        "print(b | g)\n",
        "print(s | g)\n",
        "print(s ^ b)\n",
        "print(b ^ g)\n",
        "print(s ^ g)"
      ],
      "metadata": {
        "colab": {
          "base_uri": "https://localhost:8080/"
        },
        "id": "9Kd2p4YgG0Cm",
        "outputId": "b149791f-e2c3-4351-cebd-82df5299dcbb"
      },
      "execution_count": 11,
      "outputs": [
        {
          "output_type": "stream",
          "name": "stdout",
          "text": [
            "16\n",
            "18\n",
            "17\n",
            "19\n",
            "19\n",
            "19\n",
            "3\n",
            "1\n",
            "2\n"
          ]
        }
      ]
    }
  ]
}