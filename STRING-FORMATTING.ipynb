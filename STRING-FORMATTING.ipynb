{
  "nbformat": 4,
  "nbformat_minor": 0,
  "metadata": {
    "colab": {
      "name": "Untitled10.ipynb",
      "provenance": []
    },
    "kernelspec": {
      "name": "python3",
      "display_name": "Python 3"
    },
    "language_info": {
      "name": "python"
    }
  },
  "cells": [
    {
      "cell_type": "code",
      "execution_count": 2,
      "metadata": {
        "colab": {
          "base_uri": "https://localhost:8080/"
        },
        "id": "XdZye7ePB5r4",
        "outputId": "82e7a61b-76e3-4fc6-e33c-7a36f4d7e9cd"
      },
      "outputs": [
        {
          "output_type": "stream",
          "name": "stdout",
          "text": [
            "if you want to lift yourself up,lift up someone else.\n"
          ]
        }
      ],
      "source": [
        "#string formatting\n",
        "#using %\n",
        "print('if you want to lift %s up,lift up someone else.'% 'yourself')"
      ]
    },
    {
      "cell_type": "code",
      "source": [
        "a='you'\n",
        "print('life has no %s,expect the once %s make.'%('limitations',a))"
      ],
      "metadata": {
        "colab": {
          "base_uri": "https://localhost:8080/"
        },
        "id": "IP8smnOaC5Dn",
        "outputId": "a4531bcf-5ee3-4043-fda8-cbc32b9da3a4"
      },
      "execution_count": 6,
      "outputs": [
        {
          "output_type": "stream",
          "name": "stdout",
          "text": [
            "life has no limitations,expect the once you make.\n"
          ]
        }
      ]
    },
    {
      "cell_type": "code",
      "source": [
        "#Float point precision using % \n",
        "print('the value of pi is:%1.4f'%3.151592)\n",
        "print('the value of pi is:%1.6f'%3.151592)\n",
        "print('the value of pi is:%8.6f'%3.151592)\n",
        "print('the value of pi is:%10.6f'%3.151592)"
      ],
      "metadata": {
        "colab": {
          "base_uri": "https://localhost:8080/"
        },
        "id": "asLkoW9bCp3w",
        "outputId": "2388230f-d995-4da5-dc9e-b00b854c3dee"
      },
      "execution_count": 11,
      "outputs": [
        {
          "output_type": "stream",
          "name": "stdout",
          "text": [
            "the value of pi is:3.1516\n",
            "the value of pi is:3.151592\n",
            "the value of pi is:3.151592\n",
            "the value of pi is:  3.151592\n"
          ]
        }
      ]
    },
    {
      "cell_type": "code",
      "source": [
        "print('floating point of numbers:%1.0f'%1718.1910)"
      ],
      "metadata": {
        "colab": {
          "base_uri": "https://localhost:8080/"
        },
        "id": "TrKGO9omEuPz",
        "outputId": "7b04e6c5-0dca-4719-d794-8051abab5886"
      },
      "execution_count": 12,
      "outputs": [
        {
          "output_type": "stream",
          "name": "stdout",
          "text": [
            "floating point of numbers:1718\n"
          ]
        }
      ]
    },
    {
      "cell_type": "code",
      "source": [
        "ab=22\n",
        "s='ab as integer=%d \\nab as float=%f'%(ab,ab)\n",
        "print(s)"
      ],
      "metadata": {
        "colab": {
          "base_uri": "https://localhost:8080/"
        },
        "id": "TVxmT2vYF6Nj",
        "outputId": "b4fd3949-9f16-4308-93e3-0f9e72db559b"
      },
      "execution_count": 61,
      "outputs": [
        {
          "output_type": "stream",
          "name": "stdout",
          "text": [
            "ab as integer=22 \n",
            "ab as float=22.000000\n"
          ]
        }
      ]
    },
    {
      "cell_type": "code",
      "source": [
        "#using format\n",
        "print('my name is{}'.format(' suraj'))"
      ],
      "metadata": {
        "colab": {
          "base_uri": "https://localhost:8080/"
        },
        "id": "BqEO3M-6HJxm",
        "outputId": "c7131d27-42b8-4546-e25b-ed563f131335"
      },
      "execution_count": 62,
      "outputs": [
        {
          "output_type": "stream",
          "name": "stdout",
          "text": [
            "my name is suraj\n"
          ]
        }
      ]
    },
    {
      "cell_type": "code",
      "source": [
        "print('{0} {2} {1}'.format('read','instructions','the'))"
      ],
      "metadata": {
        "colab": {
          "base_uri": "https://localhost:8080/"
        },
        "id": "vyEycKD8Ix6b",
        "outputId": "410b0e75-6db9-4f33-ccaa-0dd338801e85"
      },
      "execution_count": 51,
      "outputs": [
        {
          "output_type": "stream",
          "name": "stdout",
          "text": [
            "read the instructions\n"
          ]
        }
      ]
    },
    {
      "cell_type": "code",
      "source": [
        "print('a:{s},b:{b},c:{g}'.format(s=10,b=10.11,g=10+8j))"
      ],
      "metadata": {
        "colab": {
          "base_uri": "https://localhost:8080/"
        },
        "id": "a-3B7Sj-LL1s",
        "outputId": "104cd4e5-9d4b-4b81-94fe-2912991de8c2"
      },
      "execution_count": 54,
      "outputs": [
        {
          "output_type": "stream",
          "name": "stdout",
          "text": [
            "a:10,b:10.11,c:(10+8j)\n"
          ]
        }
      ]
    },
    {
      "cell_type": "code",
      "source": [
        "print('{s} will be {s}'.format(s='men'))"
      ],
      "metadata": {
        "colab": {
          "base_uri": "https://localhost:8080/"
        },
        "id": "-ZwkqWMQQwNX",
        "outputId": "e26f05e7-b742-4453-b034-a7787344ecb1"
      },
      "execution_count": 64,
      "outputs": [
        {
          "output_type": "stream",
          "name": "stdout",
          "text": [
            "men will be men\n"
          ]
        }
      ]
    },
    {
      "cell_type": "code",
      "source": [
        "#Float precision with the.format() method\n",
        "print('the value of pi is: %1.6f'%3.151592)\n",
        "print('the value of pi is: {0:1.6f}'.format(3.141592))"
      ],
      "metadata": {
        "colab": {
          "base_uri": "https://localhost:8080/"
        },
        "id": "AIO_hDwFRimQ",
        "outputId": "f3309ef4-b17e-4172-9220-fa4dbb079012"
      },
      "execution_count": 69,
      "outputs": [
        {
          "output_type": "stream",
          "name": "stdout",
          "text": [
            "the value of pi is: 3.151592\n",
            "the value of pi is: 3.141592\n"
          ]
        }
      ]
    }
  ]
}