{
  "nbformat": 4,
  "nbformat_minor": 0,
  "metadata": {
    "colab": {
      "name": "LIST-METHODS(02).ipynb",
      "provenance": []
    },
    "kernelspec": {
      "name": "python3",
      "display_name": "Python 3"
    },
    "language_info": {
      "name": "python"
    }
  },
  "cells": [
    {
      "cell_type": "code",
      "execution_count": 1,
      "metadata": {
        "colab": {
          "base_uri": "https://localhost:8080/"
        },
        "id": "V1-jl6V8yB84",
        "outputId": "a0debbba-7faa-4538-8fe1-8dd3ded319b2"
      },
      "outputs": [
        {
          "output_type": "stream",
          "name": "stdout",
          "text": [
            "[1, 2, 3, 4, 5, 6]\n",
            "[1, 2, 3, 4, 5, 6]\n"
          ]
        }
      ],
      "source": [
        "#copying list\n",
        "#using '='(deep copy)\n",
        "a=[1,2,3,4,5]\n",
        "b=[1,2,3,4,5]\n",
        "a=b\n",
        "a.append(6)\n",
        "print(a)\n",
        "print(b)\n"
      ]
    },
    {
      "cell_type": "code",
      "source": [
        "a=[1,2,3,4,5,7,8,8]\n",
        "b=[1,2,3,4,5]\n",
        "c=a.copy()\n",
        "print(c)\n",
        "c.append(10)\n",
        "print(c)\n",
        "print(a)\n",
        "print(b)"
      ],
      "metadata": {
        "colab": {
          "base_uri": "https://localhost:8080/"
        },
        "id": "VD5aMXUWzTAt",
        "outputId": "73bee459-01f6-420d-8612-a0c45fb83fbe"
      },
      "execution_count": 3,
      "outputs": [
        {
          "output_type": "stream",
          "name": "stdout",
          "text": [
            "[1, 2, 3, 4, 5, 7, 8, 8]\n",
            "[1, 2, 3, 4, 5, 7, 8, 8, 10]\n",
            "[1, 2, 3, 4, 5, 7, 8, 8]\n",
            "[1, 2, 3, 4, 5]\n"
          ]
        }
      ]
    },
    {
      "cell_type": "code",
      "source": [
        "#sort method\n",
        "a=[22,11,33,44,55]\n",
        "a.sort()\n",
        "print(a)"
      ],
      "metadata": {
        "colab": {
          "base_uri": "https://localhost:8080/"
        },
        "id": "bo037spb2AHX",
        "outputId": "3bf0a30a-a394-4103-ee47-65140fd88ebb"
      },
      "execution_count": 5,
      "outputs": [
        {
          "output_type": "stream",
          "name": "stdout",
          "text": [
            "[11, 22, 33, 44, 55]\n"
          ]
        }
      ]
    },
    {
      "cell_type": "code",
      "source": [
        "#reverse method\n",
        "a.reverse()\n",
        "print(a)"
      ],
      "metadata": {
        "colab": {
          "base_uri": "https://localhost:8080/"
        },
        "id": "eSV7P63Z2ba8",
        "outputId": "330024f7-061a-4024-8048-5078b54b426e"
      },
      "execution_count": 6,
      "outputs": [
        {
          "output_type": "stream",
          "name": "stdout",
          "text": [
            "[55, 44, 33, 22, 11]\n"
          ]
        }
      ]
    }
  ]
}