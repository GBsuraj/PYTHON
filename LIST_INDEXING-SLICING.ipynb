{
  "nbformat": 4,
  "nbformat_minor": 0,
  "metadata": {
    "colab": {
      "name": "list.ipynb",
      "provenance": []
    },
    "kernelspec": {
      "name": "python3",
      "display_name": "Python 3"
    },
    "language_info": {
      "name": "python"
    }
  },
  "cells": [
    {
      "cell_type": "code",
      "execution_count": 1,
      "metadata": {
        "colab": {
          "base_uri": "https://localhost:8080/"
        },
        "id": "7lxkCTz6urlG",
        "outputId": "bbc23aac-b7a3-4a58-84b4-467c5109ad09"
      },
      "outputs": [
        {
          "output_type": "stream",
          "name": "stdout",
          "text": [
            "['ab', 17]\n",
            "<class 'list'>\n",
            "['vk', 18]\n",
            "<class 'list'>\n"
          ]
        }
      ],
      "source": [
        "#list\n",
        "#[],list constructor()\n",
        "a=['ab',17]\n",
        "print(a)\n",
        "print(type(a))\n",
        "#vs\n",
        "b=list(('vk',18))\n",
        "print(b)\n",
        "print(type(b))"
      ]
    },
    {
      "cell_type": "code",
      "source": [
        "#duplicates\n",
        "print(a*2,end=\"\")\n",
        "b*2\n"
      ],
      "metadata": {
        "colab": {
          "base_uri": "https://localhost:8080/"
        },
        "id": "eJSflTOlvm0r",
        "outputId": "6393c23d-29ea-4790-c626-9031362f1ca3"
      },
      "execution_count": 5,
      "outputs": [
        {
          "output_type": "stream",
          "name": "stdout",
          "text": [
            "['ab', 17, 'ab', 17]"
          ]
        },
        {
          "output_type": "execute_result",
          "data": {
            "text/plain": [
              "['vk', 18, 'vk', 18]"
            ]
          },
          "metadata": {},
          "execution_count": 5
        }
      ]
    },
    {
      "cell_type": "code",
      "source": [
        "#indexing and slicing\n",
        "animals=['cat','dog','monkey']\n",
        "animals.index('cat')"
      ],
      "metadata": {
        "colab": {
          "base_uri": "https://localhost:8080/"
        },
        "id": "7pErACgowuLk",
        "outputId": "8e01cdf6-2f3e-47fe-c0f6-ef0b5f85afd1"
      },
      "execution_count": 11,
      "outputs": [
        {
          "output_type": "execute_result",
          "data": {
            "text/plain": [
              "0"
            ]
          },
          "metadata": {},
          "execution_count": 11
        }
      ]
    },
    {
      "cell_type": "code",
      "source": [
        "animals.index('dog')"
      ],
      "metadata": {
        "colab": {
          "base_uri": "https://localhost:8080/"
        },
        "id": "sB-Bickxxnd-",
        "outputId": "1c12d42e-6411-432a-b301-90c080d15716"
      },
      "execution_count": 7,
      "outputs": [
        {
          "output_type": "execute_result",
          "data": {
            "text/plain": [
              "1"
            ]
          },
          "metadata": {},
          "execution_count": 7
        }
      ]
    },
    {
      "cell_type": "code",
      "source": [
        "\n",
        "animals.index('monkey')"
      ],
      "metadata": {
        "colab": {
          "base_uri": "https://localhost:8080/"
        },
        "id": "tqGUsbtbxrlX",
        "outputId": "8064976f-fb9d-4b75-dd6a-93635e2c5a0f"
      },
      "execution_count": 8,
      "outputs": [
        {
          "output_type": "execute_result",
          "data": {
            "text/plain": [
              "2"
            ]
          },
          "metadata": {},
          "execution_count": 8
        }
      ]
    },
    {
      "cell_type": "code",
      "source": [
        "animals[2]"
      ],
      "metadata": {
        "colab": {
          "base_uri": "https://localhost:8080/",
          "height": 35
        },
        "id": "8S-c9PXsx2z2",
        "outputId": "d7bd2702-9d8a-4c19-a177-28e18faf5f54"
      },
      "execution_count": 12,
      "outputs": [
        {
          "output_type": "execute_result",
          "data": {
            "application/vnd.google.colaboratory.intrinsic+json": {
              "type": "string"
            },
            "text/plain": [
              "'monkey'"
            ]
          },
          "metadata": {},
          "execution_count": 12
        }
      ]
    },
    {
      "cell_type": "code",
      "source": [
        "animals[2][1:3]"
      ],
      "metadata": {
        "colab": {
          "base_uri": "https://localhost:8080/",
          "height": 35
        },
        "id": "_MHzOfyzx8Md",
        "outputId": "d2ecc946-ef95-4823-808a-abd4bfa1bebd"
      },
      "execution_count": 13,
      "outputs": [
        {
          "output_type": "execute_result",
          "data": {
            "application/vnd.google.colaboratory.intrinsic+json": {
              "type": "string"
            },
            "text/plain": [
              "'on'"
            ]
          },
          "metadata": {},
          "execution_count": 13
        }
      ]
    },
    {
      "cell_type": "code",
      "source": [
        "animals[2]='donkey'\n",
        "print(animals)"
      ],
      "metadata": {
        "colab": {
          "base_uri": "https://localhost:8080/"
        },
        "id": "Wr92PEwFyG5V",
        "outputId": "66cd8531-2b8a-43cc-aec1-2a67faad7404"
      },
      "execution_count": 15,
      "outputs": [
        {
          "output_type": "stream",
          "name": "stdout",
          "text": [
            "['cat', 'dog', 'donkey']\n"
          ]
        }
      ]
    },
    {
      "cell_type": "code",
      "source": [
        "#nested list \n",
        "a=['virat','faf',['ab','maxwell'],'josh','siraj']\n",
        "a.index('josh')\n"
      ],
      "metadata": {
        "colab": {
          "base_uri": "https://localhost:8080/"
        },
        "id": "mhEIqEU_0umJ",
        "outputId": "5f88e3c9-8f42-4afd-96ea-2b5101fa712a"
      },
      "execution_count": 29,
      "outputs": [
        {
          "output_type": "execute_result",
          "data": {
            "text/plain": [
              "3"
            ]
          },
          "metadata": {},
          "execution_count": 29
        }
      ]
    },
    {
      "cell_type": "code",
      "source": [
        "a.index(['ab','maxwell'])"
      ],
      "metadata": {
        "colab": {
          "base_uri": "https://localhost:8080/"
        },
        "id": "WW2jDnpQ1gok",
        "outputId": "eae23f62-6e9a-42d4-fe60-429fe100f679"
      },
      "execution_count": 37,
      "outputs": [
        {
          "output_type": "execute_result",
          "data": {
            "text/plain": [
              "2"
            ]
          },
          "metadata": {},
          "execution_count": 37
        }
      ]
    },
    {
      "cell_type": "code",
      "source": [
        "#overriding\n",
        "b=['harshal','gayle']\n",
        "a[3:4]=[b]\n",
        "print(a)"
      ],
      "metadata": {
        "colab": {
          "base_uri": "https://localhost:8080/"
        },
        "id": "dlla5Kkz2CBJ",
        "outputId": "c31b6913-5c31-4ea8-ffac-f13ac55186b6"
      },
      "execution_count": 39,
      "outputs": [
        {
          "output_type": "stream",
          "name": "stdout",
          "text": [
            "['virat', 'faf', ['ab', 'maxwell'], ['harshal', 'gayle'], 'siraj']\n"
          ]
        }
      ]
    }
  ]
}
