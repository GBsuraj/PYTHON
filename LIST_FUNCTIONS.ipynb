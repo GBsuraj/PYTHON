{
  "nbformat": 4,
  "nbformat_minor": 0,
  "metadata": {
    "colab": {
      "name": "LIST-FUNCTIONS.ipynb",
      "provenance": []
    },
    "kernelspec": {
      "name": "python3",
      "display_name": "Python 3"
    },
    "language_info": {
      "name": "python"
    }
  },
  "cells": [
    {
      "cell_type": "code",
      "execution_count": 1,
      "metadata": {
        "colab": {
          "base_uri": "https://localhost:8080/"
        },
        "id": "JM4EZLxV3C3l",
        "outputId": "1f53f9d2-715c-4133-f80b-84c18e04bf2f"
      },
      "outputs": [
        {
          "output_type": "stream",
          "name": "stdout",
          "text": [
            "5\n"
          ]
        }
      ],
      "source": [
        "#functions\n",
        "#max\n",
        "a=[1,2,3,4,5]\n",
        "print(max(a))"
      ]
    },
    {
      "cell_type": "code",
      "source": [
        "#min\n",
        "a=[11,22,0,44,55]\n",
        "print(min(a))"
      ],
      "metadata": {
        "colab": {
          "base_uri": "https://localhost:8080/"
        },
        "id": "zFu7S8Mx3S_T",
        "outputId": "c7906217-7147-46bb-a80c-eeec755ff336"
      },
      "execution_count": 2,
      "outputs": [
        {
          "output_type": "stream",
          "name": "stdout",
          "text": [
            "0\n"
          ]
        }
      ]
    },
    {
      "cell_type": "code",
      "source": [
        "#all\n",
        "a=[1,2,True]\n",
        "b=[0,1,False]\n",
        "print(all(a))\n",
        "print(all(b))"
      ],
      "metadata": {
        "colab": {
          "base_uri": "https://localhost:8080/"
        },
        "id": "Q9qrGFub3f-3",
        "outputId": "c041f416-7739-4280-b0b3-5f6e22695e30"
      },
      "execution_count": 3,
      "outputs": [
        {
          "output_type": "stream",
          "name": "stdout",
          "text": [
            "True\n",
            "False\n"
          ]
        }
      ]
    },
    {
      "cell_type": "code",
      "source": [
        "#any\n",
        "a=[1,2,True]\n",
        "b=[0,1,False]\n",
        "print(any(a))\n",
        "print(any(b))"
      ],
      "metadata": {
        "colab": {
          "base_uri": "https://localhost:8080/"
        },
        "id": "eP542BVZ38ni",
        "outputId": "79d570ee-03f7-4bb5-bb0c-7467b1632e59"
      },
      "execution_count": 4,
      "outputs": [
        {
          "output_type": "stream",
          "name": "stdout",
          "text": [
            "True\n",
            "True\n"
          ]
        }
      ]
    }
  ]
}