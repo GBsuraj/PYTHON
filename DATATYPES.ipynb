{
  "nbformat": 4,
  "nbformat_minor": 0,
  "metadata": {
    "colab": {
      "name": "Untitled7.ipynb",
      "provenance": []
    },
    "kernelspec": {
      "name": "python3",
      "display_name": "Python 3"
    },
    "language_info": {
      "name": "python"
    }
  },
  "cells": [
    {
      "cell_type": "code",
      "execution_count": 4,
      "metadata": {
        "colab": {
          "base_uri": "https://localhost:8080/"
        },
        "id": "hApJSAeDIzJP",
        "outputId": "bbb3f0f5-1c03-4e21-d378-049808490347"
      },
      "outputs": [
        {
          "output_type": "stream",
          "name": "stdout",
          "text": [
            "17\n",
            "<class 'int'>\n",
            "1.7\n",
            "<class 'float'>\n",
            "17j\n",
            "<class 'complex'>\n",
            "suraj\n",
            "<class 'str'>\n",
            "['cat', 'dog']\n",
            "<class 'list'>\n",
            "('cat', 'dog')\n",
            "<class 'tuple'>\n",
            "{'cat', 'dog'}\n",
            "<class 'set'>\n",
            "{'food': 'eat'}\n",
            "<class 'dict'>\n",
            "False\n",
            "<class 'bool'>\n",
            "range(100, 10, 2)\n",
            "<class 'range'>\n"
          ]
        }
      ],
      "source": [
        "#datatypes\n",
        "s=17\n",
        "u=1.7\n",
        "r=17j\n",
        "a=\"suraj\"\n",
        "j=['cat','dog']\n",
        "i=('cat','dog')\n",
        "d={'cat','dog'}\n",
        "h={'food':'eat'}\n",
        "e=12\n",
        "g=13\n",
        "x= e>g\n",
        "l=range(100,10,2)\n",
        "print(s)\n",
        "print(type(s))\n",
        "print(u)\n",
        "print(type(u))\n",
        "print(r)\n",
        "print(type(r))\n",
        "print(a)\n",
        "print(type(a))\n",
        "print(j)\n",
        "print(type(j))\n",
        "print(i)\n",
        "print(type(i))\n",
        "print(d)\n",
        "print(type(d))\n",
        "print(h)\n",
        "print(type(h))\n",
        "print(x)\n",
        "print(type(x))\n",
        "print(l)\n",
        "print(type(l))\n"
      ]
    },
    {
      "cell_type": "code",
      "source": [
        ""
      ],
      "metadata": {
        "id": "1IcfVpGiL1gX"
      },
      "execution_count": null,
      "outputs": []
    }
  ]
}