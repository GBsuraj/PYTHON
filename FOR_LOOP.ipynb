{
  "nbformat": 4,
  "nbformat_minor": 0,
  "metadata": {
    "colab": {
      "name": "FOR-LOOP.ipynb",
      "provenance": [],
      "collapsed_sections": []
    },
    "kernelspec": {
      "name": "python3",
      "display_name": "Python 3"
    },
    "language_info": {
      "name": "python"
    }
  },
  "cells": [
    {
      "cell_type": "code",
      "source": [
        "tab=int(input('Enter a number: '))\n",
        "for i in range(1,11):\n",
        "  print(i*tab)"
      ],
      "metadata": {
        "colab": {
          "base_uri": "https://localhost:8080/"
        },
        "id": "4hns1yE0SQcN",
        "outputId": "f6ebc170-cac3-4190-8f18-126014ffa6a2"
      },
      "execution_count": null,
      "outputs": [
        {
          "output_type": "stream",
          "name": "stdout",
          "text": [
            "Enter a number: 23\n",
            "23\n",
            "46\n",
            "69\n",
            "92\n",
            "115\n",
            "138\n",
            "161\n",
            "184\n",
            "207\n",
            "230\n"
          ]
        }
      ]
    },
    {
      "cell_type": "code",
      "source": [
        "for i in range(12,1):\n",
        "  print(i)"
      ],
      "metadata": {
        "id": "al0-ePKaZ_n8"
      },
      "execution_count": null,
      "outputs": []
    },
    {
      "cell_type": "code",
      "source": [
        "i=5\n",
        "for x in range (1,6):\n",
        "     print(x*i)"
      ],
      "metadata": {
        "colab": {
          "base_uri": "https://localhost:8080/"
        },
        "id": "RUokPBagVcOY",
        "outputId": "c6ca45e3-4623-4589-a016-480241ce1e12"
      },
      "execution_count": null,
      "outputs": [
        {
          "output_type": "stream",
          "name": "stdout",
          "text": [
            "5\n",
            "10\n",
            "15\n",
            "20\n",
            "25\n"
          ]
        }
      ]
    },
    {
      "cell_type": "code",
      "source": [
        "fact=int(input(\"enter a number:\"))\n",
        "factorial = 1\n",
        "for i in range(1,fact+1):\n",
        "  factorial = factorial*i\n",
        "  print(factorial)\n",
        "      "
      ],
      "metadata": {
        "colab": {
          "base_uri": "https://localhost:8080/"
        },
        "id": "xtT_LOMHWkaD",
        "outputId": "a9549bdc-a36f-43b9-ee9b-13d8752f74ef"
      },
      "execution_count": null,
      "outputs": [
        {
          "output_type": "stream",
          "name": "stdout",
          "text": [
            "enter a number:6\n",
            "1\n",
            "2\n",
            "6\n",
            "24\n",
            "120\n",
            "720\n"
          ]
        }
      ]
    },
    {
      "cell_type": "code",
      "source": [
        "a=\"wow\"\n",
        "c=reversed(a)\n",
        "if list(a)==list(c):\n",
        "  print(\"palindrome\")\n",
        "else: print('no')\n"
      ],
      "metadata": {
        "colab": {
          "base_uri": "https://localhost:8080/"
        },
        "id": "9ZWkBbd-Zy25",
        "outputId": "7cd3bb15-b1ab-423b-8e21-2464fb2e47b3"
      },
      "execution_count": null,
      "outputs": [
        {
          "output_type": "stream",
          "name": "stdout",
          "text": [
            "palindrome\n"
          ]
        }
      ]
    },
    {
      "cell_type": "code",
      "source": [
        "a = \"wow\"\n",
        "b = \"wow\"\n",
        "print()"
      ],
      "metadata": {
        "colab": {
          "base_uri": "https://localhost:8080/"
        },
        "id": "O1K6iRy4bnR9",
        "outputId": "a0870668-9759-47da-ef9c-4a9b0828afac"
      },
      "execution_count": null,
      "outputs": [
        {
          "output_type": "stream",
          "name": "stdout",
          "text": [
            "True\n"
          ]
        }
      ]
    },
    {
      "cell_type": "code",
      "source": [
        "a={'suraj':'godambe','pratham':'sarphale','hrishi':'shelar'}\n",
        "for i,j in a.items():\n",
        "  print(i,j)"
      ],
      "metadata": {
        "colab": {
          "base_uri": "https://localhost:8080/"
        },
        "id": "T1B4Vkl6f-3V",
        "outputId": "23aa4ff3-cc84-4eb4-cf06-44aca22f54f6"
      },
      "execution_count": null,
      "outputs": [
        {
          "output_type": "stream",
          "name": "stdout",
          "text": [
            "suraj godambe\n",
            "pratham sarphale\n",
            "hrishi shelar\n"
          ]
        }
      ]
    }
  ]
}