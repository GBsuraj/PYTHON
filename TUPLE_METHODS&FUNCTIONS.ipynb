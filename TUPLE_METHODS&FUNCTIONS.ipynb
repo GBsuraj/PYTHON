{
  "nbformat": 4,
  "nbformat_minor": 0,
  "metadata": {
    "colab": {
      "name": "TUPLE-METHODS&FUNCTIONS.ipynb",
      "provenance": []
    },
    "kernelspec": {
      "name": "python3",
      "display_name": "Python 3"
    },
    "language_info": {
      "name": "python"
    }
  },
  "cells": [
    {
      "cell_type": "code",
      "execution_count": 1,
      "metadata": {
        "colab": {
          "base_uri": "https://localhost:8080/"
        },
        "id": "rvYuQ65yeOtI",
        "outputId": "fe90b6b3-7512-418d-a3f4-6494d594482b"
      },
      "outputs": [
        {
          "output_type": "stream",
          "name": "stdout",
          "text": [
            "(1, 2, 3, 4, 5, 6)\n"
          ]
        }
      ],
      "source": [
        "#add items\n",
        "a=(1,2,3,4,5)\n",
        "b=list(a)\n",
        "b.append(6)\n",
        "c=tuple(b)\n",
        "print(c)"
      ]
    },
    {
      "cell_type": "code",
      "source": [
        "#changing elements from list in tuple\n",
        "a=(1,2,[3,4],5)\n",
        "a[2][0]=333\n",
        "print(a)"
      ],
      "metadata": {
        "colab": {
          "base_uri": "https://localhost:8080/"
        },
        "id": "VBJeO1cbfyrQ",
        "outputId": "3fa9e61b-f6b4-45a7-b20b-6a36adbf8a7b"
      },
      "execution_count": 3,
      "outputs": [
        {
          "output_type": "stream",
          "name": "stdout",
          "text": [
            "(1, 2, [333, 4], 5)\n"
          ]
        }
      ]
    },
    {
      "cell_type": "code",
      "source": [
        "#deleting a tuple\n",
        "a=(1,2,[3,4],5)\n",
        "del a\n",
        "print(a)"
      ],
      "metadata": {
        "colab": {
          "base_uri": "https://localhost:8080/",
          "height": 200
        },
        "id": "Uv-E6M-ugkQl",
        "outputId": "5fc00cb0-6470-4d7c-d186-38e04f85dfaa"
      },
      "execution_count": 4,
      "outputs": [
        {
          "output_type": "error",
          "ename": "NameError",
          "evalue": "ignored",
          "traceback": [
            "\u001b[0;31m---------------------------------------------------------------------------\u001b[0m",
            "\u001b[0;31mNameError\u001b[0m                                 Traceback (most recent call last)",
            "\u001b[0;32m<ipython-input-4-ed1150f6001f>\u001b[0m in \u001b[0;36m<module>\u001b[0;34m()\u001b[0m\n\u001b[1;32m      2\u001b[0m \u001b[0ma\u001b[0m\u001b[0;34m=\u001b[0m\u001b[0;34m(\u001b[0m\u001b[0;36m1\u001b[0m\u001b[0;34m,\u001b[0m\u001b[0;36m2\u001b[0m\u001b[0;34m,\u001b[0m\u001b[0;34m[\u001b[0m\u001b[0;36m3\u001b[0m\u001b[0;34m,\u001b[0m\u001b[0;36m4\u001b[0m\u001b[0;34m]\u001b[0m\u001b[0;34m,\u001b[0m\u001b[0;36m5\u001b[0m\u001b[0;34m)\u001b[0m\u001b[0;34m\u001b[0m\u001b[0;34m\u001b[0m\u001b[0m\n\u001b[1;32m      3\u001b[0m \u001b[0;32mdel\u001b[0m \u001b[0ma\u001b[0m\u001b[0;34m\u001b[0m\u001b[0;34m\u001b[0m\u001b[0m\n\u001b[0;32m----> 4\u001b[0;31m \u001b[0mprint\u001b[0m\u001b[0;34m(\u001b[0m\u001b[0ma\u001b[0m\u001b[0;34m)\u001b[0m\u001b[0;34m\u001b[0m\u001b[0;34m\u001b[0m\u001b[0m\n\u001b[0m",
            "\u001b[0;31mNameError\u001b[0m: name 'a' is not defined"
          ]
        }
      ]
    },
    {
      "cell_type": "code",
      "source": [
        "#removing an element from tuple\n",
        "a=(1,2,3,4,5)\n",
        "b=list(a)\n",
        "b.remove(5)\n",
        "c=tuple(b)\n",
        "print(c)"
      ],
      "metadata": {
        "colab": {
          "base_uri": "https://localhost:8080/"
        },
        "id": "DhVzANBPg_zI",
        "outputId": "d4374a39-aa8b-4363-f2e7-7191c991d5a9"
      },
      "execution_count": 5,
      "outputs": [
        {
          "output_type": "stream",
          "name": "stdout",
          "text": [
            "(1, 2, 3, 4)\n"
          ]
        }
      ]
    },
    {
      "cell_type": "code",
      "source": [
        "#count \n",
        "a=(11,22,33,44,55,11,77,66,11,99,88)\n",
        "a.count(11)"
      ],
      "metadata": {
        "colab": {
          "base_uri": "https://localhost:8080/"
        },
        "id": "Z-Y7eLH_hgWQ",
        "outputId": "7181ec65-7993-4cdb-cc45-364f3fb57c0d"
      },
      "execution_count": 6,
      "outputs": [
        {
          "output_type": "execute_result",
          "data": {
            "text/plain": [
              "3"
            ]
          },
          "metadata": {},
          "execution_count": 6
        }
      ]
    },
    {
      "cell_type": "code",
      "source": [
        "#sum function\n",
        "a=(1,2,3,4)\n",
        "b=(5,6,7,8)\n",
        "c=sum((a,b),())\n",
        "print(c)"
      ],
      "metadata": {
        "colab": {
          "base_uri": "https://localhost:8080/"
        },
        "id": "TB2bu_OHiIPt",
        "outputId": "f295f508-22b8-4e04-cf24-874e8c9360f4"
      },
      "execution_count": 8,
      "outputs": [
        {
          "output_type": "stream",
          "name": "stdout",
          "text": [
            "(1, 2, 3, 4, 5, 6, 7, 8)\n"
          ]
        }
      ]
    },
    {
      "cell_type": "code",
      "source": [
        "#max and min\n",
        "a=(11,22,33,44,55)\n",
        "print(max(a))\n",
        "print(min(a))"
      ],
      "metadata": {
        "colab": {
          "base_uri": "https://localhost:8080/"
        },
        "id": "GceDtSR8jf4Q",
        "outputId": "4a10a8d3-dcc2-4643-c924-d5229ffbc004"
      },
      "execution_count": 9,
      "outputs": [
        {
          "output_type": "stream",
          "name": "stdout",
          "text": [
            "55\n",
            "11\n"
          ]
        }
      ]
    }
  ]
}