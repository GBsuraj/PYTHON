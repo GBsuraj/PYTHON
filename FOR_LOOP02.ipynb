{
  "nbformat": 4,
  "nbformat_minor": 0,
  "metadata": {
    "colab": {
      "name": "FOR-LOOP02.ipynb",
      "provenance": []
    },
    "kernelspec": {
      "name": "python3",
      "display_name": "Python 3"
    },
    "language_info": {
      "name": "python"
    }
  },
  "cells": [
    {
      "cell_type": "code",
      "execution_count": null,
      "metadata": {
        "colab": {
          "base_uri": "https://localhost:8080/"
        },
        "id": "ugskTxxqf-Cv",
        "outputId": "a6e2e457-a763-48cb-af76-04e841bb8585"
      },
      "outputs": [
        {
          "output_type": "stream",
          "name": "stdout",
          "text": [
            "55\n"
          ]
        }
      ],
      "source": [
        "i=1\n",
        "sum=0\n",
        "num=10\n",
        "while i<=num:\n",
        "    sum=sum+i\n",
        "    i+=1\n",
        "print(sum)\n",
        "  \n",
        "    "
      ]
    },
    {
      "cell_type": "code",
      "source": [
        "for i in range(100,500):\n",
        "  if i%11==0 and i%2!=0:\n",
        "    print(i)\n",
        "\n"
      ],
      "metadata": {
        "colab": {
          "base_uri": "https://localhost:8080/"
        },
        "id": "5snjnEo5hqcZ",
        "outputId": "fecd9008-887b-4a61-f3e5-4c550804de6a"
      },
      "execution_count": null,
      "outputs": [
        {
          "output_type": "stream",
          "name": "stdout",
          "text": [
            "121\n",
            "143\n",
            "165\n",
            "187\n",
            "209\n",
            "231\n",
            "253\n",
            "275\n",
            "297\n",
            "319\n",
            "341\n",
            "363\n",
            "385\n",
            "407\n",
            "429\n",
            "451\n",
            "473\n",
            "495\n"
          ]
        }
      ]
    },
    {
      "cell_type": "code",
      "source": [
        "for i in range(1,21):\n",
        "  if i%2!=0 and i%3!=0:\n",
        "    print(i)"
      ],
      "metadata": {
        "colab": {
          "base_uri": "https://localhost:8080/"
        },
        "id": "HpjRBhWkncuP",
        "outputId": "e1717cd2-4e70-42ea-c1bf-0c3fdade6833"
      },
      "execution_count": null,
      "outputs": [
        {
          "output_type": "stream",
          "name": "stdout",
          "text": [
            "1\n",
            "5\n",
            "7\n",
            "11\n",
            "13\n",
            "17\n",
            "19\n"
          ]
        }
      ]
    },
    {
      "cell_type": "code",
      "source": [
        "x=4\n",
        "for i in range(x): \n",
        " if x<=8:\n",
        "   print(x*10)\n",
        "   x+=2\n"
      ],
      "metadata": {
        "colab": {
          "base_uri": "https://localhost:8080/"
        },
        "id": "pMaoZX-kobXP",
        "outputId": "66087d39-2c89-44e7-999c-1de1bc10918a"
      },
      "execution_count": null,
      "outputs": [
        {
          "output_type": "stream",
          "name": "stdout",
          "text": [
            "40\n",
            "60\n",
            "80\n"
          ]
        }
      ]
    },
    {
      "cell_type": "code",
      "source": [
        "for x in range(4,9,2):\n",
        "  print(x*10)"
      ],
      "metadata": {
        "colab": {
          "base_uri": "https://localhost:8080/"
        },
        "id": "78yDRBTCp_n_",
        "outputId": "ae4e4ae1-8b1d-478d-e437-fa8081cde30a"
      },
      "execution_count": null,
      "outputs": [
        {
          "output_type": "stream",
          "name": "stdout",
          "text": [
            "40\n",
            "60\n",
            "80\n"
          ]
        }
      ]
    },
    {
      "cell_type": "code",
      "source": [
        "a=0\n",
        "for n in range(10):\n",
        "  b=float(input('Enter number : '))\n",
        "  a+=b\n",
        "avg=a/10\n",
        "print('avg of number : ',avg)\n"
      ],
      "metadata": {
        "colab": {
          "base_uri": "https://localhost:8080/"
        },
        "id": "PB140_PVqj4_",
        "outputId": "1449088e-9e98-4505-fc01-17d407d6129f"
      },
      "execution_count": null,
      "outputs": [
        {
          "output_type": "stream",
          "name": "stdout",
          "text": [
            "Enter number : 2\n",
            "Enter number : 3\n",
            "Enter number : 4\n",
            "Enter number : 5\n",
            "Enter number : 6\n",
            "Enter number : 7\n",
            "Enter number : 8\n",
            "Enter number : 7\n",
            "Enter number : 4\n",
            "Enter number : 9\n",
            "avg of number :  5.5\n"
          ]
        }
      ]
    }
  ]
}